{
 "cells": [
  {
   "cell_type": "markdown",
   "metadata": {},
   "source": [
    "# Tutorial 1\n",
    "\n",
    "**This is a direct port of the R `dftools` [tutorial](http://rpubs.com/obreschkow/312101) to Python.**"
   ]
  },
  {
   "cell_type": "markdown",
   "metadata": {},
   "source": [
    "**Objective of tutorial:** Illuystrate the basic functionality of `pydftools` by reproducing the HI mass function in Fig. 7 of Westmeier et al. 2017 (https://arxiv.org/pdf/1709.00780.pdf)."
   ]
  },
  {
   "cell_type": "markdown",
   "metadata": {},
   "source": [
    "Load the relevant libraries:"
   ]
  },
  {
   "cell_type": "code",
   "execution_count": 1,
   "metadata": {
    "ExecuteTime": {
     "end_time": "2017-10-18T07:53:35.339338",
     "start_time": "2017-10-18T07:53:34.895817Z"
    },
    "collapsed": false,
    "init_cell": true
   },
   "outputs": [],
   "source": [
    "%matplotlib inline\n",
    "\n",
    "import pydftools as df\n",
    "from pydftools.plotting import mfplot\n",
    "import numpy as np\n",
    "from urllib.request import Request, urlopen # For getting the data online\n",
    "\n",
    "from IPython.display import display, Math, Latex, Markdown, TextDisplayObject"
   ]
  },
  {
   "cell_type": "markdown",
   "metadata": {},
   "source": [
    "Download the HI-mass data of Westmeier et al. 2017:"
   ]
  },
  {
   "cell_type": "code",
   "execution_count": 2,
   "metadata": {
    "ExecuteTime": {
     "end_time": "2017-10-18T07:53:35.861324",
     "start_time": "2017-10-18T07:53:35.340354Z"
    },
    "collapsed": false,
    "init_cell": true
   },
   "outputs": [],
   "source": [
    "req = Request('http://quantumholism.com/dftools/westmeier2017.txt', headers={'User-Agent': 'Mozilla/5.0'})\n",
    "data  = urlopen(req)\n",
    "\n",
    "data = np.genfromtxt(data, skip_header=1)"
   ]
  },
  {
   "cell_type": "markdown",
   "metadata": {},
   "source": [
    "There are 31 galaxies in this sample, hence the array has 31 rows. This data can be recast into the log-masses $x$, normally used by `pydftools`. We assume the mass uncertainties to be normal in $x$ and determine their amplitude using linear error propagation. We also define the vector of effective volumes:"
   ]
  },
  {
   "cell_type": "code",
   "execution_count": 3,
   "metadata": {
    "ExecuteTime": {
     "end_time": "2017-10-18T07:53:35.866005",
     "start_time": "2017-10-18T07:53:35.862317Z"
    },
    "collapsed": true,
    "init_cell": true
   },
   "outputs": [],
   "source": [
    "x = np.log10(data[:,0])\n",
    "x_err = data[:,1]/data[:,0]/np.log(10)\n",
    "veff_values = data[:,2]"
   ]
  },
  {
   "cell_type": "markdown",
   "metadata": {},
   "source": [
    "Now fit these data. We first must create a Data and Selection object:"
   ]
  },
  {
   "cell_type": "code",
   "execution_count": 4,
   "metadata": {
    "ExecuteTime": {
     "end_time": "2017-10-18T07:53:36.093297",
     "start_time": "2017-10-18T07:53:35.867152Z"
    },
    "collapsed": false,
    "init_cell": true
   },
   "outputs": [
    {
     "name": "stdout",
     "output_type": "stream",
     "text": [
      "Warning: xmin returns Veff(xmin)=0, setting xmin, xmax to 6.63363363363, 13.0\n"
     ]
    }
   ],
   "source": [
    "data = df.Data(x = x, x_err=x_err)\n",
    "selection = df.selection.SelectionVeffPoints(veff=veff_values, xval = x, xmin = 5, xmax = 13)"
   ]
  },
  {
   "cell_type": "code",
   "execution_count": null,
   "metadata": {
    "collapsed": true
   },
   "outputs": [],
   "source": []
  },
  {
   "cell_type": "code",
   "execution_count": 5,
   "metadata": {
    "ExecuteTime": {
     "end_time": "2017-10-18T07:53:36.283150",
     "start_time": "2017-10-18T07:53:36.094332Z"
    },
    "collapsed": true,
    "init_cell": true
   },
   "outputs": [],
   "source": [
    "survey = df.DFFit(data = data, selection=selection, grid_dx = 0.01)"
   ]
  },
  {
   "cell_type": "code",
   "execution_count": 6,
   "metadata": {
    "ExecuteTime": {
     "end_time": "2017-10-18T07:53:37.348396",
     "start_time": "2017-10-18T07:53:36.284342Z"
    },
    "collapsed": false,
    "init_cell": true
   },
   "outputs": [
    {
     "name": "stderr",
     "output_type": "stream",
     "text": [
      "/home/steven/Documents/Projects/DFTOOLS/pydftools/pydftools/plotting.py:401: RuntimeWarning: divide by zero encountered in true_divide\n",
      "  bin['gdf_input'] = np.bincount(x_bins, weights=1 / bin['dx'] / v)\n",
      "/home/steven/Documents/Projects/DFTOOLS/pydftools/pydftools/dffit.py:871: RuntimeWarning: invalid value encountered in true_divide\n",
      "  self.grid.effective_counts = rho_unbiased ** 2 / rho_unbiased_sqr  # this equation gives the effective number of sources per bin\n",
      "/home/steven/anaconda2/envs/dftools/lib/python3.6/site-packages/matplotlib/axes/_axes.py:2951: RuntimeWarning: invalid value encountered in double_scalars\n",
      "  low = [thisx - thiserr for (thisx, thiserr)\n"
     ]
    },
    {
     "data": {
      "image/png": "[encoded data removed]",
      "text/plain": [
       "<matplotlib.figure.Figure at 0x7ff166d305f8>"
      ]
     },
     "metadata": {},
     "output_type": "display_data"
    }
   ],
   "source": [
    "mfplot(survey, xlim=(10**6.63, 5e10), ylim=(1e-3, 1), show_bias_correction=False);"
   ]
  },
  {
   "cell_type": "markdown",
   "metadata": {},
   "source": [
    "and show the fitted parameters:"
   ]
  },
  {
   "cell_type": "code",
   "execution_count": 7,
   "metadata": {
    "ExecuteTime": {
     "end_time": "2017-10-18T07:53:37.352170",
     "start_time": "2017-10-18T07:53:37.349517Z"
    },
    "collapsed": false,
    "init_cell": true
   },
   "outputs": [
    {
     "data": {
      "text/markdown": [
       "$\\frac{dN}{dVdx} = \\log(10) \\phi_\\star \\mu^{\\alpha+1} \\exp(-\\mu)$, where $\\mu = 10^{x - \\log_{10} M_\\star}$<br><br>$\\log_{10} \\phi_\\star$ =   -1.315 (+-0.275)<br>$\\log_{10} M_\\star$ =    9.540 (+-0.307)<br>$\\alpha$ =   -1.102 (+-0.147)<br>"
      ],
      "text/plain": [
       "<IPython.core.display.Markdown object>"
      ]
     },
     "metadata": {},
     "output_type": "display_data"
    }
   ],
   "source": [
    "display(Markdown(survey.fit_summary(format_for_notebook=True)))"
   ]
  },
  {
   "cell_type": "markdown",
   "metadata": {},
   "source": [
    "The dashed line in the bottom panel shows the effective volume as a function of mass, recovered from the 31 values of ``veff``. By default an effective volume of 0 for masses smaller than the smallest observed mass, and identical to the maximum volume for masses larger than the largest observed mass. If a better model is available from survey-specific considerations, then this information can be exploited to improve the fit. In this example, we replace the assumption of ``veff=0`` for ``x<xmin``, by ``veff=max(0,(x−6.53)∗75)``:"
   ]
  },
  {
   "cell_type": "code",
   "execution_count": 8,
   "metadata": {
    "ExecuteTime": {
     "end_time": "2017-10-18T07:53:37.642645",
     "start_time": "2017-10-18T07:53:37.353192Z"
    },
    "collapsed": false,
    "init_cell": true
   },
   "outputs": [
    {
     "name": "stdout",
     "output_type": "stream",
     "text": [
      "Warning: xmin returns Veff(xmin)=0, setting xmin, xmax to 6.53753753754, 13.0\n"
     ]
    }
   ],
   "source": [
    "def veff_extrap(x):\n",
    "    veff_max = np.max(veff_values)\n",
    "    return np.clip((x-6.53)*75, 0,veff_max)\n",
    "\n",
    "selection = df.selection.SelectionVeffPoints(veff=veff_values, xval = x, veff_extrap=veff_extrap, xmin = 5, xmax = 13)"
   ]
  },
  {
   "cell_type": "markdown",
   "metadata": {},
   "source": [
    "Now fit again:"
   ]
  },
  {
   "cell_type": "code",
   "execution_count": 9,
   "metadata": {
    "ExecuteTime": {
     "end_time": "2017-10-18T07:53:37.887442",
     "start_time": "2017-10-18T07:53:37.643646Z"
    },
    "collapsed": true,
    "init_cell": true
   },
   "outputs": [],
   "source": [
    "survey = df.DFFit(data = data, selection=selection, grid_dx = 0.01)"
   ]
  },
  {
   "cell_type": "markdown",
   "metadata": {},
   "source": [
    "and see the best fit solution:"
   ]
  },
  {
   "cell_type": "code",
   "execution_count": 10,
   "metadata": {
    "ExecuteTime": {
     "end_time": "2017-10-18T07:53:38.144197",
     "start_time": "2017-10-18T07:53:37.888605Z"
    },
    "collapsed": false,
    "init_cell": true
   },
   "outputs": [
    {
     "data": {
      "text/markdown": [
       "$\\frac{dN}{dVdx} = \\log(10) \\phi_\\star \\mu^{\\alpha+1} \\exp(-\\mu)$, where $\\mu = 10^{x - \\log_{10} M_\\star}$<br><br>$\\log_{10} \\phi_\\star$ =   -1.308 (+-0.272)<br>$\\log_{10} M_\\star$ =    9.535 (+-0.305)<br>$\\alpha$ =   -1.097 (+-0.146)<br>"
      ],
      "text/plain": [
       "<IPython.core.display.Markdown object>"
      ]
     },
     "metadata": {},
     "output_type": "display_data"
    }
   ],
   "source": [
    "display(Markdown(survey.fit_summary(format_for_notebook=True)))"
   ]
  },
  {
   "cell_type": "markdown",
   "metadata": {},
   "source": [
    "As can be seen the parameters have change very slightly due to the modified effecive volume at the lowest masses. The printed parameters have symmetric Gaussian uncertainties, determined in the Lapace approximation (i.e. by inverting the Hessian matrix of the modified likelihood function). To allow for non-Gaussian parameter posteriors, we now refit the data while bootstrapping it 10^3 times:"
   ]
  },
  {
   "cell_type": "code",
   "execution_count": 11,
   "metadata": {
    "ExecuteTime": {
     "end_time": "2017-10-18T07:54:15.877052",
     "start_time": "2017-10-18T07:53:38.145287Z"
    },
    "collapsed": false,
    "init_cell": true
   },
   "outputs": [],
   "source": [
    "survey.resample(n_bootstrap = 1000)"
   ]
  },
  {
   "cell_type": "markdown",
   "metadata": {},
   "source": [
    "Finally, let’s produce the plot with 68% and 95% confidence regions around the best fit. Also change fit color to red, change data color to black, remove posterior data, remove effective volume line, and adjust binning of input data. Then, add HIPASS and ALFALFA lines."
   ]
  },
  {
   "cell_type": "code",
   "execution_count": 17,
   "metadata": {
    "ExecuteTime": {
     "end_time": "2017-10-18T07:56:12.210025",
     "start_time": "2017-10-18T07:56:11.514761Z"
    },
    "collapsed": false
   },
   "outputs": [
    {
     "data": {
      "text/plain": [
       "<matplotlib.legend.Legend at 0x7ff160e0bf60>"
      ]
     },
     "execution_count": 17,
     "metadata": {},
     "output_type": "execute_result"
    },
    {
     "data": {
      "image/png": "[encoded data removed]",
      "text/plain": [
       "<matplotlib.figure.Figure at 0x7ff160f58a90>"
      ]
     },
     "metadata": {},
     "output_type": "display_data"
    }
   ],
   "source": [
    "fig, ax = mfplot(survey,xlim=(2e6,5e10),ylim=(1e-3,1),uncertainty_type=3,\n",
    "                 col_fit='red',col_data='black',show_posterior_data=False,\n",
    "                 ls_veff='none', nbins=6,bin_xmin=6.5,bin_xmax=9.5,\n",
    "                 show_bias_correction=False,\n",
    "                 xpower10=True)\n",
    "x = survey.grid.x[0]\n",
    "\n",
    "ax[0].plot(10**x, survey.model.gdf(x,[np.log10(6.0e-3),9.80,-1.37]), ls='--',lw=1.5, color='C0', label=\"HIPASS\") \n",
    "ax[0].plot(10**x, survey.model.gdf(x,[np.log10(4.8e-3),9.96,-1.33]), ls='--',lw=1.5, color='C1', label=\"ALFALFA\")\n",
    "ax[0].legend()"
   ]
  },
  {
   "cell_type": "markdown",
   "metadata": {},
   "source": [
    "and write the bes-fitting parameters:"
   ]
  },
  {
   "cell_type": "code",
   "execution_count": 18,
   "metadata": {
    "ExecuteTime": {
     "end_time": "2017-10-18T07:57:07.636975",
     "start_time": "2017-10-18T07:57:07.633393Z"
    },
    "collapsed": false
   },
   "outputs": [
    {
     "data": {
      "text/markdown": [
       "$\\frac{dN}{dVdx} = \\log(10) \\phi_\\star \\mu^{\\alpha+1} \\exp(-\\mu)$, where $\\mu = 10^{x - \\log_{10} M_\\star}$<br><br>$\\log_{10} \\phi_\\star$ =   -1.308 (+0.251 -0.266)<br>$\\log_{10} M_\\star$ =    9.535 (+0.152 -0.175)<br>$\\alpha$ =   -1.097 (+0.181 -0.140)<br>"
      ],
      "text/plain": [
       "<IPython.core.display.Markdown object>"
      ]
     },
     "metadata": {},
     "output_type": "display_data"
    }
   ],
   "source": [
    "display(Markdown(survey.fit_summary(format_for_notebook=True)))"
   ]
  },
  {
   "cell_type": "markdown",
   "metadata": {},
   "source": [
    "Note that there are marginal differences to the uncertainty ranges quoted in the publication, due to a difference in the bootstrapping technique used in the publication (parametric bootstrapping) and the current version of dftools (non-parametric bootstrapping)."
   ]
  }
 ],
 "metadata": {
  "celltoolbar": "Initialisation Cell",
  "kernelspec": {
   "display_name": "Python [conda env:dftools]",
   "language": "python",
   "name": "conda-env-dftools-py"
  },
  "language_info": {
   "codemirror_mode": {
    "name": "ipython",
    "version": 3
   },
   "file_extension": ".py",
   "mimetype": "text/x-python",
   "name": "python",
   "nbconvert_exporter": "python",
   "pygments_lexer": "ipython3",
   "version": "3.6.1"
  },
  "latex_envs": {
   "bibliofile": "biblio.bib",
   "cite_by": "apalike",
   "current_citInitial": 1,
   "eqLabelWithNumbers": true,
   "eqNumInitial": 0
  },
  "nav_menu": {},
  "toc": {
   "navigate_menu": true,
   "number_sections": true,
   "sideBar": true,
   "threshold": 6,
   "toc_cell": false,
   "toc_section_display": "block",
   "toc_window_display": true
  }
 },
 "nbformat": 4,
 "nbformat_minor": 2
}
